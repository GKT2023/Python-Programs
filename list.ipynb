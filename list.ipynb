{
 "cells": [
  {
   "cell_type": "markdown",
   "metadata": {},
   "source": [
    "Python program to interchange first and last elements in a list\n",
    "Given a list, write a Python program to swap first and last element of the list.\n",
    "\n",
    "Examples: \n",
    "\n",
    "Input : [12, 35, 9, 56, 24]\n",
    "Output : [24, 35, 9, 56, 12]\n",
    "\n",
    "Input : [1, 2, 3]\n",
    "Output : [3, 2, 1]"
   ]
  },
  {
   "cell_type": "markdown",
   "metadata": {},
   "source": [
    "l = [1,2,3,4,5,6]\n",
    "print(l[len(l)] + l[1:len(l)] + len[0])"
   ]
  },
  {
   "cell_type": "code",
   "execution_count": 16,
   "metadata": {},
   "outputs": [
    {
     "data": {
      "text/plain": [
       "[6, 2, 3, 4, 5, 1]"
      ]
     },
     "execution_count": 16,
     "metadata": {},
     "output_type": "execute_result"
    }
   ],
   "source": [
    "l = [1,2,3,4,5,6]\n",
    "l2 = l[len(l)-1] \n",
    "l3 = l[1:len(l)-1]\n",
    "l4 = l[0]\n",
    "f = []\n",
    "f.append(l2)\n",
    "f.extend(l3)\n",
    "f.append(l4)\n",
    "f"
   ]
  },
  {
   "cell_type": "markdown",
   "metadata": {},
   "source": [
    "Python Program to Swap Two Elements in a List\n",
    "Given a list in Python and provided the positions of the elements, write a program to swap the two elements in the list. \n",
    "\n",
    "Examples:  \n",
    "\n",
    "Input : List = [23, 65, 19, 90], pos1 = 1, pos2 = 3\n",
    "Output : [19, 65, 23, 90]\n",
    "\n",
    "Input : List = [1, 2, 3, 4, 5], pos1 = 2, pos2 = 5\n",
    "Output : [1, 5, 3, 4, 2]"
   ]
  },
  {
   "cell_type": "markdown",
   "metadata": {},
   "source": []
  },
  {
   "cell_type": "markdown",
   "metadata": {},
   "source": [
    "l1 = [23,65,19,90]\n",
    "pos1 = 1\n",
    "pos1 = pos1 -1\n",
    "pos2 = 3\n",
    "pos2 = pos2 -1\n",
    "\n",
    "l2 = [1,2,3,4,5]\n",
    "out = []\n",
    "\n",
    "for i in range(0,len(l1)):\n",
    "    if i == pos1:\n",
    "        continue\n",
    "    elif i == pos2:\n",
    "        out.append(l1[i])\n",
    "    else:\n",
    "        out.append(i)\n",
    "\n",
    "print(out)\n",
    "\n",
    "\n"
   ]
  },
  {
   "cell_type": "code",
   "execution_count": 34,
   "metadata": {},
   "outputs": [
    {
     "name": "stdout",
     "output_type": "stream",
     "text": [
      "[19, 65, 23, 90]\n",
      "[19, 65, 23, 90]\n"
     ]
    }
   ],
   "source": [
    "l1 = [23,65,19,90]\n",
    "# l1 = [1,2,3,4,5]\n",
    "\n",
    "pos1 = 1\n",
    "pos2 = 3\n",
    "\n",
    "pos1 -= 1\n",
    "pos2 -= 1\n",
    "\n",
    "out = []\n",
    "for i in range(len(l1)):\n",
    "    if i != pos2 and i!= pos1:\n",
    "        out.append(l1[i])\n",
    "\n",
    "out.insert(pos1, l1[pos2])\n",
    "out.insert(pos2, l1[pos1])\n",
    "\n",
    "print(out)\n",
    "\n",
    "\n",
    "### another way \n",
    "\n",
    "l1[pos1], l1[pos2] = l1[pos2], l1[pos1]\n",
    "print(l1)"
   ]
  },
  {
   "cell_type": "code",
   "execution_count": 37,
   "metadata": {},
   "outputs": [
    {
     "name": "stdout",
     "output_type": "stream",
     "text": [
      "7\n",
      "7\n"
     ]
    }
   ],
   "source": [
    "### find length of a list without len()\n",
    "\n",
    "l = [1,2,3,4,56,7,8]\n",
    "c = 0\n",
    "for i in l:\n",
    "    c+=1\n",
    "print(c)\n",
    "print(len(l))"
   ]
  },
  {
   "cell_type": "code",
   "execution_count": null,
   "metadata": {},
   "outputs": [],
   "source": []
  },
  {
   "cell_type": "markdown",
   "metadata": {},
   "source": [
    "## Python program to check whether the string is Symmetrical or Palindrome\n",
    "\n",
    "Given a string. the task is to check if the string is symmetrical and palindrome or not. A string is said to be symmetrical if both the halves of the string are the same and a string is said to be a palindrome string if one half of the string is the reverse of the other half or if a string appears the same when read forward or backward.\n",
    "\n",
    "Example: \n",
    "\n",
    "Input: khokho\n",
    "Output: \n",
    "The entered string is symmetrical\n",
    "The entered string is not palindrome\n",
    "\n",
    "Input:amaama\n",
    "Output:\n",
    "The entered string is symmetrical\n",
    "The entered string is palindrome"
   ]
  },
  {
   "cell_type": "markdown",
   "metadata": {},
   "source": []
  },
  {
   "cell_type": "code",
   "execution_count": 20,
   "metadata": {},
   "outputs": [
    {
     "name": "stdout",
     "output_type": "stream",
     "text": [
      "amaama\n",
      "entered string is palindrome\n",
      "entered string is symmetrical\n"
     ]
    }
   ],
   "source": [
    "# s1 = \"khokho\"\n",
    "s1 = \"amaama\"\n",
    "\n",
    "if s1 == s1[::-1]:\n",
    "    print(s1[::-1])\n",
    "    print(f\"entered string is palindrome\")\n",
    "else:\n",
    "    print(f\"entered string is not palindrome\")\n",
    "\n",
    "s1_len = len(s1)//2\n",
    "if s1[0:s1_len] == s1[s1_len:]:\n",
    "    print(f\"entered string is symmetrical\")\n",
    "else:\n",
    "    print(f\"entered string is not symmetrical\")"
   ]
  },
  {
   "cell_type": "code",
   "execution_count": 5,
   "metadata": {},
   "outputs": [
    {
     "data": {
      "text/plain": [
       "'o'"
      ]
     },
     "execution_count": 5,
     "metadata": {},
     "output_type": "execute_result"
    }
   ],
   "source": [
    "s1[-1::]"
   ]
  },
  {
   "cell_type": "markdown",
   "metadata": {},
   "source": [
    "## Reverse Words in a Given String in Python\n",
    "\n",
    "We are given a string and we need to reverse words of a given string\n",
    "\n",
    "Examples:\n",
    "\n",
    "Input : str =\" geeks quiz practice code\"\n",
    "Output : str = code practice quiz geeks  \n",
    "Input : str = \"my name is laxmi\"\n",
    "output : str= laxmi is name my "
   ]
  },
  {
   "cell_type": "code",
   "execution_count": 36,
   "metadata": {},
   "outputs": [
    {
     "name": "stdout",
     "output_type": "stream",
     "text": [
      "code practice quiz geeks \n"
     ]
    }
   ],
   "source": [
    "# s = \"my name is laxmi\"\n",
    "s = \" geeks quiz practice code\"\n",
    "out = \"\"\n",
    "\n",
    "words = s.split(\" \")\n",
    "\n",
    "print(\" \".join(reversed(words)))"
   ]
  },
  {
   "cell_type": "code",
   "execution_count": null,
   "metadata": {},
   "outputs": [],
   "source": []
  }
 ],
 "metadata": {
  "kernelspec": {
   "display_name": "Python 3",
   "language": "python",
   "name": "python3"
  },
  "language_info": {
   "codemirror_mode": {
    "name": "ipython",
    "version": 3
   },
   "file_extension": ".py",
   "mimetype": "text/x-python",
   "name": "python",
   "nbconvert_exporter": "python",
   "pygments_lexer": "ipython3",
   "version": "3.11.4"
  }
 },
 "nbformat": 4,
 "nbformat_minor": 2
}
